{
 "cells": [
  {
   "cell_type": "code",
   "execution_count": 1,
   "metadata": {},
   "outputs": [
    {
     "name": "stderr",
     "output_type": "stream",
     "text": [
      "Using TensorFlow backend.\n"
     ]
    }
   ],
   "source": [
    "# Important! If not done, the GPU memory stays high and tensorflow due to OOM\n",
    "from keras import backend as K\n",
    "K.clear_session()"
   ]
  },
  {
   "cell_type": "markdown",
   "metadata": {},
   "source": [
    "# Using FGSM to Attack MNIST"
   ]
  },
  {
   "cell_type": "markdown",
   "metadata": {},
   "source": [
    "FGSM (Fast Gradient Sign Method) is an adversarial method that uses the gradient of the model to add adversarial noise to an image in order to confuse a model. [Cleverhans](https://github.com/tensorflow/cleverhans/) is a library created by Ian Goodfellow that provides some default adversarial attack methods, including FGSM. The library also has methods that wrap models and enables using adversarial examples in training and benchmarking. \n",
    "\n",
    "Note: the library is not updated to work with TF2, and TF1 does not work with CUDA 10.1, so luckily there are parts of the library in the `future` module that provide compatibility with TF2."
   ]
  },
  {
   "cell_type": "markdown",
   "metadata": {},
   "source": [
    "This notebook is largely adapted from this [example](https://colab.research.google.com/github/andantillon/cleverhans/blob/master/tutorials/future/tf2/notebook_tutorials/mnist_fgsm_tutorial.ipynb) notebook."
   ]
  },
  {
   "cell_type": "code",
   "execution_count": 2,
   "metadata": {},
   "outputs": [],
   "source": [
    "# python\n",
    "import numpy as np\n",
    "import tensorflow as tf\n",
    "# plotting\n",
    "import matplotlib.pyplot as plt\n",
    "from jupyterthemes import jtplot\n",
    "jtplot.style(theme='onedork')"
   ]
  },
  {
   "cell_type": "code",
   "execution_count": 3,
   "metadata": {},
   "outputs": [
    {
     "data": {
      "text/plain": [
       "[PhysicalDevice(name='/physical_device:GPU:0', device_type='GPU')]"
      ]
     },
     "execution_count": 3,
     "metadata": {},
     "output_type": "execute_result"
    }
   ],
   "source": [
    "tf.config.list_physical_devices('GPU')"
   ]
  },
  {
   "cell_type": "markdown",
   "metadata": {},
   "source": [
    "## Setup the Model"
   ]
  },
  {
   "cell_type": "markdown",
   "metadata": {},
   "source": [
    "Note that this model is not convolutional, for simplicity"
   ]
  },
  {
   "cell_type": "code",
   "execution_count": 4,
   "metadata": {},
   "outputs": [
    {
     "name": "stdout",
     "output_type": "stream",
     "text": [
      "Train on 48000 samples, validate on 12000 samples\n",
      "Epoch 1/10\n",
      "48000/48000 [==============================] - 4s 85us/sample - loss: 0.4501 - accuracy: 0.8666 - val_loss: 0.2293 - val_accuracy: 0.9347\n",
      "Epoch 2/10\n",
      "48000/48000 [==============================] - 4s 73us/sample - loss: 0.2111 - accuracy: 0.9385 - val_loss: 0.1867 - val_accuracy: 0.9457\n",
      "Epoch 3/10\n",
      "48000/48000 [==============================] - 4s 78us/sample - loss: 0.1659 - accuracy: 0.9507 - val_loss: 0.1623 - val_accuracy: 0.9514\n",
      "Epoch 4/10\n",
      "48000/48000 [==============================] - 4s 76us/sample - loss: 0.1415 - accuracy: 0.9583 - val_loss: 0.1569 - val_accuracy: 0.9549\n",
      "Epoch 5/10\n",
      "48000/48000 [==============================] - 4s 73us/sample - loss: 0.1250 - accuracy: 0.9622 - val_loss: 0.1384 - val_accuracy: 0.9582\n",
      "Epoch 6/10\n",
      "48000/48000 [==============================] - 4s 74us/sample - loss: 0.1131 - accuracy: 0.9663 - val_loss: 0.1325 - val_accuracy: 0.9594\n",
      "Epoch 7/10\n",
      "48000/48000 [==============================] - 4s 74us/sample - loss: 0.1043 - accuracy: 0.9689 - val_loss: 0.1365 - val_accuracy: 0.9611\n",
      "Epoch 8/10\n",
      "48000/48000 [==============================] - 4s 74us/sample - loss: 0.0962 - accuracy: 0.9712 - val_loss: 0.1410 - val_accuracy: 0.9588\n",
      "Epoch 9/10\n",
      "48000/48000 [==============================] - 4s 74us/sample - loss: 0.0897 - accuracy: 0.9720 - val_loss: 0.1361 - val_accuracy: 0.9596\n",
      "Epoch 10/10\n",
      "48000/48000 [==============================] - 4s 75us/sample - loss: 0.0812 - accuracy: 0.9751 - val_loss: 0.1386 - val_accuracy: 0.9594\n",
      "10000/10000 [==============================] - 1s 64us/sample - loss: 0.1375 - accuracy: 0.9602\n"
     ]
    }
   ],
   "source": [
    "mnist = tf.keras.datasets.mnist\n",
    "(train_images, train_labels), (test_images, test_labels) = mnist.load_data()\n",
    "\n",
    "train_images = train_images / 255.0\n",
    "test_images = test_images / 255.0\n",
    "\n",
    "num_classes = 10\n",
    "\n",
    "model = tf.keras.Sequential([\n",
    "    tf.keras.layers.Flatten(input_shape=(28, 28)),\n",
    "    tf.keras.layers.Dense(32, activation=tf.nn.relu),\n",
    "    tf.keras.layers.Dense(16, activation=tf.nn.relu),\n",
    "    tf.keras.layers.Dense(10),\n",
    "    tf.keras.layers.Activation(tf.nn.softmax)\n",
    "])\n",
    "\n",
    "model.compile(optimizer='adam',\n",
    "              loss= 'sparse_categorical_crossentropy',\n",
    "              metrics=['accuracy'])\n",
    "\n",
    "model.fit(train_images, train_labels, epochs=10, validation_split=0.2)\n",
    "test_loss, test_acc = model.evaluate(test_images, test_labels)"
   ]
  },
  {
   "cell_type": "markdown",
   "metadata": {},
   "source": [
    "# Attacking the Model"
   ]
  },
  {
   "cell_type": "code",
   "execution_count": 5,
   "metadata": {},
   "outputs": [],
   "source": [
    "from cleverhans.future.tf2.attacks import fast_gradient_method"
   ]
  },
  {
   "cell_type": "code",
   "execution_count": 6,
   "metadata": {},
   "outputs": [],
   "source": [
    "#The attack requires the model to ouput the logits\n",
    "logits_model = tf.keras.Model(model.input,model.layers[-1].output)"
   ]
  },
  {
   "cell_type": "code",
   "execution_count": 23,
   "metadata": {},
   "outputs": [
    {
     "data": {
      "image/png": "[encoded data removed]",
      "text/plain": [
       "<Figure size 460.8x403.2 with 1 Axes>"
      ]
     },
     "metadata": {},
     "output_type": "display_data"
    }
   ],
   "source": [
    "# Pick a random example from the test set\n",
    "random_index = np.random.randint(test_images.shape[0])\n",
    "\n",
    "original_image = test_images[random_index]\n",
    "# Batch size 1\n",
    "original_image = tf.convert_to_tensor(original_image.reshape((1,28,28))) \n",
    "\n",
    " # Give label proper shape and type for cleverhans\n",
    "original_label = test_labels[random_index]\n",
    "original_label = np.reshape(original_label, (1,)).astype('int64')\n",
    "\n",
    "plt.figure()\n",
    "plt.grid(False)\n",
    "plt.imshow(np.reshape(original_image, (28,28)), cmap='gray')\n",
    "plt.title(\"Label: %s\"%original_label[0])\n",
    "plt.show()"
   ]
  },
  {
   "cell_type": "code",
   "execution_count": 24,
   "metadata": {},
   "outputs": [
    {
     "data": {
      "image/png": "[encoded data removed]",
      "text/plain": [
       "<Figure size 460.8x403.2 with 1 Axes>"
      ]
     },
     "metadata": {},
     "output_type": "display_data"
    }
   ],
   "source": [
    "# The value of noise. Lower epsilon means that the image will be closer to being recognizable by a human \n",
    "# eye but harder to fool the model. Higher epsilion is easier to fool the model, but harder to stay realistic\n",
    "epsilon = 0.1\n",
    "\n",
    "adv_example_untargeted_label = fast_gradient_method(logits_model, original_image, epsilon, np.inf, targeted=False)\n",
    "\n",
    "adv_example_untargeted_label_pred = model.predict(adv_example_untargeted_label)\n",
    "\n",
    "\n",
    "plt.figure()\n",
    "plt.grid(False)\n",
    "plt.imshow(np.reshape(adv_example_untargeted_label, (28,28)), cmap='gray')\n",
    "plt.title(\"Model Prediction: %s\"%np.argmax(adv_example_untargeted_label_pred))\n",
    "plt.xlabel(\"Original Label: %s\"%original_label[0])\n",
    "plt.show()"
   ]
  },
  {
   "cell_type": "code",
   "execution_count": 30,
   "metadata": {},
   "outputs": [
    {
     "data": {
      "image/png": "[encoded data removed]",
      "text/plain": [
       "<Figure size 460.8x403.2 with 1 Axes>"
      ]
     },
     "metadata": {},
     "output_type": "display_data"
    }
   ],
   "source": [
    "# Trying to \"target\" an attack\n",
    "# We specify a label we want to force the model to predict\n",
    "# Note that since this is harder, the epsilon should be higher\n",
    "epsilon = 0.5\n",
    "target = 7\n",
    "\n",
    "target_label = np.reshape(target, (1,)).astype('int64') \n",
    "adv_example_targeted_label = fast_gradient_method(logits_model, original_image, epsilon, np.inf, y=target_label, targeted=True)\n",
    "\n",
    "adv_example_targeted_label_pred = model.predict(adv_example_targeted_label)\n",
    "\n",
    "#Show the image\n",
    "plt.figure()\n",
    "plt.grid(False)\n",
    "plt.imshow(np.reshape(adv_example_targeted_label, (28,28)), cmap='gray')\n",
    "plt.title(\"Model Prediction: %s\"%np.argmax(adv_example_targeted_label_pred))\n",
    "plt.xlabel(\"Original Label: %s\"%original_label[0])\n",
    "plt.show()"
   ]
  },
  {
   "cell_type": "markdown",
   "metadata": {},
   "source": [
    "It is much harder to try and target an attack, even on a simple dataset like MNIST."
   ]
  }
 ],
 "metadata": {
  "kernelspec": {
   "display_name": "deep-learning",
   "language": "python",
   "name": "deep-learning"
  },
  "language_info": {
   "codemirror_mode": {
    "name": "ipython",
    "version": 3
   },
   "file_extension": ".py",
   "mimetype": "text/x-python",
   "name": "python",
   "nbconvert_exporter": "python",
   "pygments_lexer": "ipython3",
   "version": "3.6.10"
  }
 },
 "nbformat": 4,
 "nbformat_minor": 4
}
