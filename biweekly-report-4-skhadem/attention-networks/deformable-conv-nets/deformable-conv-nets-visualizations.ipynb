{
 "nbformat": 4,
 "nbformat_minor": 2,
 "metadata": {
  "language_info": {
   "name": "python",
   "codemirror_mode": {
    "name": "ipython",
    "version": 3
   },
   "version": "3.6.10-final"
  },
  "orig_nbformat": 2,
  "file_extension": ".py",
  "mimetype": "text/x-python",
  "name": "python",
  "npconvert_exporter": "python",
  "pygments_lexer": "ipython3",
  "version": 3,
  "kernelspec": {
   "name": "deep-learning",
   "display_name": "deep-learning"
  }
 },
 "cells": [
  {
   "cell_type": "markdown",
   "metadata": {},
   "source": []
  },
  {
   "cell_type": "code",
   "execution_count": 1,
   "metadata": {},
   "outputs": [],
   "source": [
    "import numpy as np\n",
    "import matplotlib.pyplot as plt\n",
    "\n",
    "import torch\n",
    "import torch.nn as nn\n",
    "import torch.nn.functional as F\n",
    "import torch.optim as optim\n",
    "from torchvision import datasets, transforms"
   ]
  },
  {
   "cell_type": "code",
   "execution_count": 2,
   "metadata": {},
   "outputs": [
    {
     "ename": "ModuleNotFoundError",
     "evalue": "No module named 'models'",
     "output_type": "error",
     "traceback": [
      "\u001b[1;31m---------------------------------------------------------------------------\u001b[0m",
      "\u001b[1;31mModuleNotFoundError\u001b[0m                       Traceback (most recent call last)",
      "\u001b[1;32m<ipython-input-2-d3a15a4a0727>\u001b[0m in \u001b[0;36m<module>\u001b[1;34m\u001b[0m\n\u001b[1;32m----> 1\u001b[1;33m \u001b[1;32mfrom\u001b[0m \u001b[0mmodels\u001b[0m \u001b[1;32mimport\u001b[0m \u001b[1;33m*\u001b[0m\u001b[1;33m\u001b[0m\u001b[1;33m\u001b[0m\u001b[0m\n\u001b[0m",
      "\u001b[1;31mModuleNotFoundError\u001b[0m: No module named 'models'"
     ]
    }
   ],
   "source": [
    "from models import *"
   ]
  },
  {
   "cell_type": "code",
   "execution_count": null,
   "metadata": {},
   "outputs": [],
   "source": []
  },
  {
   "cell_type": "code",
   "execution_count": 157,
   "metadata": {},
   "outputs": [
    {
     "data": {
      "text/plain": "tensor([[ 2.8315e-02, -7.5787e-02,  8.4222e-02,  2.3027e-02, -9.1419e-05,\n          5.4575e-02,  6.9857e-02, -1.2321e-02,  1.3505e-03,  1.5693e-02]],\n       grad_fn=<AddmmBackward>)"
     },
     "execution_count": 157,
     "metadata": {},
     "output_type": "execute_result"
    }
   ],
   "source": [
    "net = DeformedConvModel()\n",
    "net(x)"
   ]
  },
  {
   "cell_type": "code",
   "execution_count": 81,
   "metadata": {},
   "outputs": [],
   "source": [
    "net = Model()"
   ]
  },
  {
   "cell_type": "code",
   "execution_count": 86,
   "metadata": {},
   "outputs": [],
   "source": [
    "x = torch.ones([1, 1, 28, 28])"
   ]
  },
  {
   "cell_type": "code",
   "execution_count": 87,
   "metadata": {},
   "outputs": [
    {
     "data": {
      "text/plain": "tensor([[ 0.0040,  0.0360,  0.0318,  0.0146, -0.0768, -0.0657, -0.0109,  0.0764,\n          0.0347, -0.0549]], grad_fn=<AddmmBackward>)"
     },
     "execution_count": 87,
     "metadata": {},
     "output_type": "execute_result"
    }
   ],
   "source": [
    "net(x)"
   ]
  },
  {
   "cell_type": "code",
   "execution_count": 162,
   "metadata": {},
   "outputs": [],
   "source": [
    "train_loader = torch.utils.data.DataLoader(\n",
    "    datasets.MNIST(root='../../data/', train=True, transform=transforms.Compose([\n",
    "        transforms.ToTensor(),\n",
    "        transforms.Normalize((0.1307,), (0.3081,))\n",
    "    ])), batch_size=64, shuffle=True, num_workers=4)\n",
    "\n",
    "test_loader = torch.utils.data.DataLoader(\n",
    "    datasets.MNIST(root='../../data/', train=False, transform=transforms.Compose([\n",
    "        transforms.ToTensor(),\n",
    "        transforms.Normalize((0.1307,), (0.3081,))\n",
    "    ])), batch_size=64, shuffle=True, num_workers=4)"
   ]
  },
  {
   "cell_type": "code",
   "execution_count": 38,
   "metadata": {},
   "outputs": [],
   "source": [
    "x = next(iter(train_loader))[0]"
   ]
  },
  {
   "cell_type": "code",
   "execution_count": 40,
   "metadata": {},
   "outputs": [
    {
     "data": {
      "text/plain": "torch.Size([64, 1, 28, 28])"
     },
     "execution_count": 40,
     "metadata": {},
     "output_type": "execute_result"
    }
   ],
   "source": [
    "x.shape"
   ]
  },
  {
   "cell_type": "code",
   "execution_count": 113,
   "metadata": {},
   "outputs": [],
   "source": [
    "def train(model, loss_fn, optimizer, train_loader, num_epochs=10, log_freq=300):\n",
    "    for epoch in range (num_epochs):\n",
    "        tot_loss = 0\n",
    "        for i, data in enumerate(train_loader):\n",
    "            inputs, labels = data\n",
    "            inputs, labels = inputs.cuda(), labels.cuda()\n",
    "            \n",
    "            optimizer.zero_grad()\n",
    "\n",
    "            pred = model(inputs)\n",
    "            loss = loss_fn(pred, labels)\n",
    "            loss.backward()\n",
    "            \n",
    "            optimizer.step()\n",
    "\n",
    "            tot_loss += loss.item()\n",
    "            \n",
    "            if i % log_freq == (log_freq - 1):\n",
    "                print('[%d, %5d] loss: %0.3f'%(epoch + 1, i + 1, tot_loss / 1000))\n",
    "                tot_loss = 0\n"
   ]
  },
  {
   "cell_type": "code",
   "execution_count": 106,
   "metadata": {},
   "outputs": [],
   "source": [
    "def test(model, loss_fn, test_loader):\n",
    "    num_correct = 0\n",
    "    avg_loss = 0\n",
    "    for step, (data, targets) in enumerate(test_loader):\n",
    "        data = data.cuda()\n",
    "        targets = targets.cuda()\n",
    "\n",
    "        with torch.no_grad():\n",
    "            preds = net(data)\n",
    "\n",
    "        loss = loss_fn(preds, targets)\n",
    "        avg_loss += loss.item()\n",
    "\n",
    "        _, pred_labels = torch.max(preds, dim=1)\n",
    "        \n",
    "        num_correct += pred_labels.eq(targets).sum().item()\n",
    "\n",
    "        # Because used a sum, make sure to divide by the length of total number in dataset\n",
    "    acc = num_correct/len(test_loader.dataset)\n",
    "    avg_loss /= len(test_loader)\n",
    "\n",
    "    return acc, avg_loss"
   ]
  },
  {
   "cell_type": "code",
   "execution_count": 160,
   "metadata": {},
   "outputs": [
    {
     "name": "stdout",
     "output_type": "stream",
     "text": "[1,   300] loss: 0.423\n[1,   600] loss: 0.171\n[1,   900] loss: 0.098\n[2,   300] loss: 0.066\n[2,   600] loss: 0.053\n[2,   900] loss: 0.046\n[3,   300] loss: 0.038\n[3,   600] loss: 0.034\n[3,   900] loss: 0.031\n[4,   300] loss: 0.028\n[4,   600] loss: 0.026\n[4,   900] loss: 0.025\n[5,   300] loss: 0.022\n[5,   600] loss: 0.022\n[5,   900] loss: 0.020\n[6,   300] loss: 0.019\n[6,   600] loss: 0.018\n[6,   900] loss: 0.018\n[7,   300] loss: 0.016\n[7,   600] loss: 0.015\n[7,   900] loss: 0.016\n[8,   300] loss: 0.014\n[8,   600] loss: 0.015\n[8,   900] loss: 0.013\n[9,   300] loss: 0.013\n[9,   600] loss: 0.012\n[9,   900] loss: 0.012\n[10,   300] loss: 0.011\n[10,   600] loss: 0.011\n[10,   900] loss: 0.012\nAccuracy: 98.67%\n"
    }
   ],
   "source": [
    "net = Model().cuda()\n",
    "optimizer = optim.SGD(net.parameters(), lr = 0.001, momentum=0.9)\n",
    "loss_fn = nn.CrossEntropyLoss()\n",
    "\n",
    "train(net, loss_fn, optimizer, train_loader)\n",
    "acc, _ = test(net, loss_fn, test_loader)\n",
    "print('Accuracy: %s'%(acc*100) + '%')"
   ]
  },
  {
   "cell_type": "code",
   "execution_count": 161,
   "metadata": {},
   "outputs": [
    {
     "name": "stdout",
     "output_type": "stream",
     "text": "[1,   300] loss: 0.252\n[1,   600] loss: 0.057\n[1,   900] loss: 0.037\n[2,   300] loss: 0.027\n[2,   600] loss: 0.022\n[2,   900] loss: 0.019\n[3,   300] loss: 0.015\n[3,   600] loss: 0.015\n[3,   900] loss: 0.014\n[4,   300] loss: 0.010\n[4,   600] loss: 0.011\n[4,   900] loss: 0.011\n[5,   300] loss: 0.008\n[5,   600] loss: 0.009\n[5,   900] loss: 0.008\n[6,   300] loss: 0.007\n[6,   600] loss: 0.007\n[6,   900] loss: 0.007\n[7,   300] loss: 0.005\n[7,   600] loss: 0.006\n[7,   900] loss: 0.005\n[8,   300] loss: 0.004\n[8,   600] loss: 0.004\n[8,   900] loss: 0.004\n[9,   300] loss: 0.004\n[9,   600] loss: 0.004\n[9,   900] loss: 0.003\n[10,   300] loss: 0.003\n[10,   600] loss: 0.003\n[10,   900] loss: 0.003\nAccuracy: 99.2%\n"
    }
   ],
   "source": [
    "net = DeformedConvModel().cuda()\n",
    "optimizer = optim.SGD(net.parameters(), lr = 0.001, momentum=0.9)\n",
    "loss_fn = nn.CrossEntropyLoss()\n",
    "\n",
    "train(net, loss_fn, optimizer, train_loader)\n",
    "acc, _ = test(net, loss_fn, test_loader)\n",
    "print('Accuracy: %s'%(acc*100) + '%')"
   ]
  },
  {
   "cell_type": "code",
   "execution_count": 163,
   "metadata": {},
   "outputs": [],
   "source": [
    "rot_train_loader = torch.utils.data.DataLoader(\n",
    "    datasets.MNIST(root='../../data/', train=True, transform=transforms.Compose([\n",
    "        # transforms.Pad(16), # Make larger\n",
    "        # transforms.RandomAffine(0, translate=(0.4, 0.4)), # Random shift\n",
    "        transforms.RandomAffine(120),\n",
    "        transforms.ToTensor(),\n",
    "        transforms.Normalize((0.1307,), (0.3081,))\n",
    "    ])), batch_size=64, shuffle=True, num_workers=4)\n",
    "    \n",
    "rot_test_loader = torch.utils.data.DataLoader(\n",
    "    datasets.MNIST(root='../../data/', train=False, transform=transforms.Compose([\n",
    "        # transforms.Pad(16), # Make larger\n",
    "        # transforms.RandomAffine(0, translate=(0.4, 0.4)), # Random shift\n",
    "        transforms.RandomAffine(120),\n",
    "        transforms.ToTensor(),\n",
    "        transforms.Normalize((0.1307,), (0.3081,))\n",
    "    ])), batch_size=64, shuffle=True, num_workers=4)"
   ]
  },
  {
   "cell_type": "code",
   "execution_count": 164,
   "metadata": {},
   "outputs": [
    {
     "name": "stdout",
     "output_type": "stream",
     "text": "[1,   300] loss: 0.582\n[1,   600] loss: 0.471\n[1,   900] loss: 0.382\n[2,   300] loss: 0.301\n[2,   600] loss: 0.248\n[2,   900] loss: 0.208\n[3,   300] loss: 0.177\n[3,   600] loss: 0.156\n[3,   900] loss: 0.141\n[4,   300] loss: 0.129\n[4,   600] loss: 0.119\n[4,   900] loss: 0.112\n[5,   300] loss: 0.107\n[5,   600] loss: 0.102\n[5,   900] loss: 0.096\n[6,   300] loss: 0.092\n[6,   600] loss: 0.088\n[6,   900] loss: 0.089\n[7,   300] loss: 0.083\n[7,   600] loss: 0.082\n[7,   900] loss: 0.078\n[8,   300] loss: 0.077\n[8,   600] loss: 0.073\n[8,   900] loss: 0.074\n[9,   300] loss: 0.071\n[9,   600] loss: 0.068\n[9,   900] loss: 0.070\n[10,   300] loss: 0.068\n[10,   600] loss: 0.067\n[10,   900] loss: 0.067\nAccuracy: 94.3%\n"
    }
   ],
   "source": [
    "net = Model().cuda()\n",
    "optimizer = optim.SGD(net.parameters(), lr = 0.001, momentum=0.9)\n",
    "loss_fn = nn.CrossEntropyLoss()\n",
    "\n",
    "train(net, loss_fn, optimizer, rot_train_loader)\n",
    "acc, _ = test(net, loss_fn, rot_test_loader)\n",
    "print('Accuracy: %s'%(acc*100) + '%')"
   ]
  },
  {
   "cell_type": "code",
   "execution_count": 165,
   "metadata": {},
   "outputs": [
    {
     "name": "stdout",
     "output_type": "stream",
     "text": "[1,   300] loss: 0.490\n[1,   600] loss: 0.242\n[1,   900] loss: 0.151\n[2,   300] loss: 0.108\n[2,   600] loss: 0.087\n[2,   900] loss: 0.079\n[3,   300] loss: 0.068\n[3,   600] loss: 0.066\n[3,   900] loss: 0.060\n[4,   300] loss: 0.059\n[4,   600] loss: 0.055\n[4,   900] loss: 0.052\n[5,   300] loss: 0.050\n[5,   600] loss: 0.049\n[5,   900] loss: 0.046\n[6,   300] loss: 0.047\n[6,   600] loss: 0.048\n[6,   900] loss: 0.044\n[7,   300] loss: 0.043\n[7,   600] loss: 0.044\n[7,   900] loss: 0.042\n[8,   300] loss: 0.039\n[8,   600] loss: 0.042\n[8,   900] loss: 0.040\n[9,   300] loss: 0.039\n[9,   600] loss: 0.039\n[9,   900] loss: 0.036\n[10,   300] loss: 0.037\n[10,   600] loss: 0.036\n[10,   900] loss: 0.038\nAccuracy: 96.34%\n"
    }
   ],
   "source": [
    "net = DeformedConvModel().cuda()\n",
    "optimizer = optim.SGD(net.parameters(), lr = 0.001, momentum=0.9)\n",
    "loss_fn = nn.CrossEntropyLoss()\n",
    "\n",
    "train(net, loss_fn, optimizer, rot_train_loader)\n",
    "acc, _ = test(net, loss_fn, rot_test_loader)\n",
    "print('Accuracy: %s'%(acc*100) + '%')"
   ]
  },
  {
   "cell_type": "code",
   "execution_count": 177,
   "metadata": {},
   "outputs": [],
   "source": [
    "x,y = next(iter(rot_test_loader))"
   ]
  },
  {
   "cell_type": "code",
   "execution_count": 171,
   "metadata": {},
   "outputs": [
    {
     "data": {
      "text/plain": "torch.Size([64, 1, 28, 28])"
     },
     "execution_count": 171,
     "metadata": {},
     "output_type": "execute_result"
    }
   ],
   "source": [
    "x.shape"
   ]
  },
  {
   "cell_type": "code",
   "execution_count": 210,
   "metadata": {},
   "outputs": [
    {
     "data": {
      "text/plain": "<matplotlib.image.AxesImage at 0x1b54635eda0>"
     },
     "execution_count": 210,
     "metadata": {},
     "output_type": "execute_result"
    },
    {
     "data": {
      "image/png": "[encoded data removed]",
      "image/svg+xml": "<?xml version=\"1.0\" encoding=\"utf-8\" standalone=\"no\"?>\r\n<!DOCTYPE svg PUBLIC \"-//W3C//DTD SVG 1.1//EN\"\r\n  \"http://www.w3.org/Graphics/SVG/1.1/DTD/svg11.dtd\">\r\n<!-- Created with matplotlib (https://matplotlib.org/) -->\r\n<svg height=\"248.518125pt\" version=\"1.1\" viewBox=\"0 0 251.565 248.518125\" width=\"251.565pt\" xmlns=\"http://www.w3.org/2000/svg\" xmlns:xlink=\"http://www.w3.org/1999/xlink\">\r\n <metadata>\r\n  <rdf:RDF xmlns:cc=\"http://creativecommons.org/ns#\" xmlns:dc=\"http://purl.org/dc/elements/1.1/\" xmlns:rdf=\"http://www.w3.org/1999/02/22-rdf-syntax-ns#\">\r\n   <cc:Work>\r\n    <dc:type rdf:resource=\"http://purl.org/dc/dcmitype/StillImage\"/>\r\n    <dc:date>2020-10-19T00:14:30.049514</dc:date>\r\n    <dc:format>image/svg+xml</dc:format>\r\n    <dc:creator>\r\n     <cc:Agent>\r\n      <dc:title>Matplotlib v3.3.1, https://matplotlib.org/</dc:title>\r\n     </cc:Agent>\r\n    </dc:creator>\r\n   </cc:Work>\r\n  </rdf:RDF>\r\n </metadata>\r\n <defs>\r\n  <style type=\"text/css\">*{stroke-linecap:butt;stroke-linejoin:round;}</style>\r\n </defs>\r\n <g id=\"figure_1\">\r\n  <g id=\"patch_1\">\r\n   <path d=\"M 0 248.518125 \r\nL 251.565 248.518125 \r\nL 251.565 0 \r\nL 0 0 \r\nz\r\n\" style=\"fill:none;\"/>\r\n  </g>\r\n  <g id=\"axes_1\">\r\n   <g id=\"patch_2\">\r\n    <path d=\"M 26.925 224.64 \r\nL 244.365 224.64 \r\nL 244.365 7.2 \r\nL 26.925 7.2 \r\nz\r\n\" style=\"fill:#ffffff;\"/>\r\n   </g>\r\n   <g clip-path=\"url(#p688485f469)\">\r\n    <image height=\"218\" id=\"image933f4b9cd2\" transform=\"scale(1 -1)translate(0 -218)\" width=\"218\" x=\"26.925\" xlink:href=\"data:image/png;base64,\r\niVBORw0KGgoAAAANSUhEUgAAANoAAADaCAYAAADAHVzbAAADdklEQVR4nO3dAWrrMBQAQaf8+185vUAbfyq0luyZAySOYXngh5zXcRzvA5jq6+oLgCcQGgSEBgGhQUBoEBAaBIQGAaFBQGgQEBoEhAYBoUFAaBAQGgSEBgGhQUBoEBAaBIQGAaFBQGgQEBoE/l19Aat6vz+/he/1ekVXwh2YaBAQGgSEBgGhQUBoEBAaBIQGAXu0PxrZs9nRPY+JBgGhQUBoEBAaBIQGAaFBQGgQeB3H8Xmpc1Nnu6yZzvZk9mz3Y6JBQGgQEBoEhAYBoUFAaBAQGgSWPo82c9c1ussaMXuHN/L5dnRzmGgQEBoEhAYBoUFAaBAQGgSEBoFL92ij566u3LONGL3ule8bPzPRICA0CAgNAkKDgNAgIDQILP26ubse99j58fzK93VlJhoEhAYBoUFAaBAQGgSEBgGhQWDp183ddWdz19/F70w0CAgNAkKDgNAgIDQICA0CQoOA0CAgNAgIDQJCg4DQICA0CAgNAkKDwNLvdVzZ6LsZZ1r5b5meehbPRIOA0CAgNAgIDQJCg4DQILD06+auNPqI/K5/OXVm52ufyUSDgNAgIDQICA0CQoOA0CAgNAg89pjM6J5s5r5o9jGXT9e+8nfvvKMz0SAgNAgIDQJCg4DQICA0CAgNAs6j3dDZvunK19GNfPfOezYTDQJCg4DQICA0CAgNAkKDgNAgYI+2oZX3RfzMRIOA0CAgNAgIDQJCg4DQICA0CGz9XsdP55NWPpO18x7MffsbEw0CQoOA0CAgNAgIDQJCg8DWj/dHXPmYetTOj7lH7vvOv9tEg4DQICA0CAgNAkKDgNAgIDQIPHaPNmrnPdyImcePdt6TnTHRICA0CAgNAkKDgNAgIDQICA0Cj/3bprN9z513OiNG79tT948mGgSEBgGhQUBoEBAaBIQGAaFBwHm0SUb+Umrks/+HHWHPRIOA0CAgNAgIDQJCg4DQICA0CDz2PNpsV+6qRr7bOb05TDQICA0CQoOA0CAgNAgIDQKOyUDARIOA0CAgNAgIDQJCg4DQICA0CAgNAkKDgNAgIDQICA0CQoOA0CAgNAgIDQJCg4DQICA0CAgNAkKDgNAgIDQICA0CQoOA0CAgNAgIDQJCg4DQICA0CAgNAkKDgNAgIDQICA0CQoOA0CAgNAgIDQJCg4DQICA0CAgNAkKDgNAg8A1+HIaywrAy0gAAAABJRU5ErkJggg==\" y=\"-6.64\"/>\r\n   </g>\r\n   <g id=\"matplotlib.axis_1\">\r\n    <g id=\"xtick_1\">\r\n     <g id=\"line2d_1\">\r\n      <defs>\r\n       <path d=\"M 0 0 \r\nL 0 3.5 \r\n\" id=\"mb12ba17a9d\" style=\"stroke:#000000;stroke-width:0.8;\"/>\r\n      </defs>\r\n      <g>\r\n       <use style=\"stroke:#000000;stroke-width:0.8;\" x=\"30.807857\" xlink:href=\"#mb12ba17a9d\" y=\"224.64\"/>\r\n      </g>\r\n     </g>\r\n     <g id=\"text_1\">\r\n      <!-- 0 -->\r\n      <g transform=\"translate(27.626607 239.238437)scale(0.1 -0.1)\">\r\n       <defs>\r\n        <path d=\"M 31.78125 66.40625 \r\nQ 24.171875 66.40625 20.328125 58.90625 \r\nQ 16.5 51.421875 16.5 36.375 \r\nQ 16.5 21.390625 20.328125 13.890625 \r\nQ 24.171875 6.390625 31.78125 6.390625 \r\nQ 39.453125 6.390625 43.28125 13.890625 \r\nQ 47.125 21.390625 47.125 36.375 \r\nQ 47.125 51.421875 43.28125 58.90625 \r\nQ 39.453125 66.40625 31.78125 66.40625 \r\nz\r\nM 31.78125 74.21875 \r\nQ 44.046875 74.21875 50.515625 64.515625 \r\nQ 56.984375 54.828125 56.984375 36.375 \r\nQ 56.984375 17.96875 50.515625 8.265625 \r\nQ 44.046875 -1.421875 31.78125 -1.421875 \r\nQ 19.53125 -1.421875 13.0625 8.265625 \r\nQ 6.59375 17.96875 6.59375 36.375 \r\nQ 6.59375 54.828125 13.0625 64.515625 \r\nQ 19.53125 74.21875 31.78125 74.21875 \r\nz\r\n\" id=\"DejaVuSans-48\"/>\r\n       </defs>\r\n       <use xlink:href=\"#DejaVuSans-48\"/>\r\n      </g>\r\n     </g>\r\n    </g>\r\n    <g id=\"xtick_2\">\r\n     <g id=\"line2d_2\">\r\n      <g>\r\n       <use style=\"stroke:#000000;stroke-width:0.8;\" x=\"69.636429\" xlink:href=\"#mb12ba17a9d\" y=\"224.64\"/>\r\n      </g>\r\n     </g>\r\n     <g id=\"text_2\">\r\n      <!-- 5 -->\r\n      <g transform=\"translate(66.455179 239.238437)scale(0.1 -0.1)\">\r\n       <defs>\r\n        <path d=\"M 10.796875 72.90625 \r\nL 49.515625 72.90625 \r\nL 49.515625 64.59375 \r\nL 19.828125 64.59375 \r\nL 19.828125 46.734375 \r\nQ 21.96875 47.46875 24.109375 47.828125 \r\nQ 26.265625 48.1875 28.421875 48.1875 \r\nQ 40.625 48.1875 47.75 41.5 \r\nQ 54.890625 34.8125 54.890625 23.390625 \r\nQ 54.890625 11.625 47.5625 5.09375 \r\nQ 40.234375 -1.421875 26.90625 -1.421875 \r\nQ 22.3125 -1.421875 17.546875 -0.640625 \r\nQ 12.796875 0.140625 7.71875 1.703125 \r\nL 7.71875 11.625 \r\nQ 12.109375 9.234375 16.796875 8.0625 \r\nQ 21.484375 6.890625 26.703125 6.890625 \r\nQ 35.15625 6.890625 40.078125 11.328125 \r\nQ 45.015625 15.765625 45.015625 23.390625 \r\nQ 45.015625 31 40.078125 35.4375 \r\nQ 35.15625 39.890625 26.703125 39.890625 \r\nQ 22.75 39.890625 18.8125 39.015625 \r\nQ 14.890625 38.140625 10.796875 36.28125 \r\nz\r\n\" id=\"DejaVuSans-53\"/>\r\n       </defs>\r\n       <use xlink:href=\"#DejaVuSans-53\"/>\r\n      </g>\r\n     </g>\r\n    </g>\r\n    <g id=\"xtick_3\">\r\n     <g id=\"line2d_3\">\r\n      <g>\r\n       <use style=\"stroke:#000000;stroke-width:0.8;\" x=\"108.465\" xlink:href=\"#mb12ba17a9d\" y=\"224.64\"/>\r\n      </g>\r\n     </g>\r\n     <g id=\"text_3\">\r\n      <!-- 10 -->\r\n      <g transform=\"translate(102.1025 239.238437)scale(0.1 -0.1)\">\r\n       <defs>\r\n        <path d=\"M 12.40625 8.296875 \r\nL 28.515625 8.296875 \r\nL 28.515625 63.921875 \r\nL 10.984375 60.40625 \r\nL 10.984375 69.390625 \r\nL 28.421875 72.90625 \r\nL 38.28125 72.90625 \r\nL 38.28125 8.296875 \r\nL 54.390625 8.296875 \r\nL 54.390625 0 \r\nL 12.40625 0 \r\nz\r\n\" id=\"DejaVuSans-49\"/>\r\n       </defs>\r\n       <use xlink:href=\"#DejaVuSans-49\"/>\r\n       <use x=\"63.623047\" xlink:href=\"#DejaVuSans-48\"/>\r\n      </g>\r\n     </g>\r\n    </g>\r\n    <g id=\"xtick_4\">\r\n     <g id=\"line2d_4\">\r\n      <g>\r\n       <use style=\"stroke:#000000;stroke-width:0.8;\" x=\"147.293571\" xlink:href=\"#mb12ba17a9d\" y=\"224.64\"/>\r\n      </g>\r\n     </g>\r\n     <g id=\"text_4\">\r\n      <!-- 15 -->\r\n      <g transform=\"translate(140.931071 239.238437)scale(0.1 -0.1)\">\r\n       <use xlink:href=\"#DejaVuSans-49\"/>\r\n       <use x=\"63.623047\" xlink:href=\"#DejaVuSans-53\"/>\r\n      </g>\r\n     </g>\r\n    </g>\r\n    <g id=\"xtick_5\">\r\n     <g id=\"line2d_5\">\r\n      <g>\r\n       <use style=\"stroke:#000000;stroke-width:0.8;\" x=\"186.122143\" xlink:href=\"#mb12ba17a9d\" y=\"224.64\"/>\r\n      </g>\r\n     </g>\r\n     <g id=\"text_5\">\r\n      <!-- 20 -->\r\n      <g transform=\"translate(179.759643 239.238437)scale(0.1 -0.1)\">\r\n       <defs>\r\n        <path d=\"M 19.1875 8.296875 \r\nL 53.609375 8.296875 \r\nL 53.609375 0 \r\nL 7.328125 0 \r\nL 7.328125 8.296875 \r\nQ 12.9375 14.109375 22.625 23.890625 \r\nQ 32.328125 33.6875 34.8125 36.53125 \r\nQ 39.546875 41.84375 41.421875 45.53125 \r\nQ 43.3125 49.21875 43.3125 52.78125 \r\nQ 43.3125 58.59375 39.234375 62.25 \r\nQ 35.15625 65.921875 28.609375 65.921875 \r\nQ 23.96875 65.921875 18.8125 64.3125 \r\nQ 13.671875 62.703125 7.8125 59.421875 \r\nL 7.8125 69.390625 \r\nQ 13.765625 71.78125 18.9375 73 \r\nQ 24.125 74.21875 28.421875 74.21875 \r\nQ 39.75 74.21875 46.484375 68.546875 \r\nQ 53.21875 62.890625 53.21875 53.421875 \r\nQ 53.21875 48.921875 51.53125 44.890625 \r\nQ 49.859375 40.875 45.40625 35.40625 \r\nQ 44.1875 33.984375 37.640625 27.21875 \r\nQ 31.109375 20.453125 19.1875 8.296875 \r\nz\r\n\" id=\"DejaVuSans-50\"/>\r\n       </defs>\r\n       <use xlink:href=\"#DejaVuSans-50\"/>\r\n       <use x=\"63.623047\" xlink:href=\"#DejaVuSans-48\"/>\r\n      </g>\r\n     </g>\r\n    </g>\r\n    <g id=\"xtick_6\">\r\n     <g id=\"line2d_6\">\r\n      <g>\r\n       <use style=\"stroke:#000000;stroke-width:0.8;\" x=\"224.950714\" xlink:href=\"#mb12ba17a9d\" y=\"224.64\"/>\r\n      </g>\r\n     </g>\r\n     <g id=\"text_6\">\r\n      <!-- 25 -->\r\n      <g transform=\"translate(218.588214 239.238437)scale(0.1 -0.1)\">\r\n       <use xlink:href=\"#DejaVuSans-50\"/>\r\n       <use x=\"63.623047\" xlink:href=\"#DejaVuSans-53\"/>\r\n      </g>\r\n     </g>\r\n    </g>\r\n   </g>\r\n   <g id=\"matplotlib.axis_2\">\r\n    <g id=\"ytick_1\">\r\n     <g id=\"line2d_7\">\r\n      <defs>\r\n       <path d=\"M 0 0 \r\nL -3.5 0 \r\n\" id=\"m432bfdbddc\" style=\"stroke:#000000;stroke-width:0.8;\"/>\r\n      </defs>\r\n      <g>\r\n       <use style=\"stroke:#000000;stroke-width:0.8;\" x=\"26.925\" xlink:href=\"#m432bfdbddc\" y=\"11.082857\"/>\r\n      </g>\r\n     </g>\r\n     <g id=\"text_7\">\r\n      <!-- 0 -->\r\n      <g transform=\"translate(13.5625 14.882076)scale(0.1 -0.1)\">\r\n       <use xlink:href=\"#DejaVuSans-48\"/>\r\n      </g>\r\n     </g>\r\n    </g>\r\n    <g id=\"ytick_2\">\r\n     <g id=\"line2d_8\">\r\n      <g>\r\n       <use style=\"stroke:#000000;stroke-width:0.8;\" x=\"26.925\" xlink:href=\"#m432bfdbddc\" y=\"49.911429\"/>\r\n      </g>\r\n     </g>\r\n     <g id=\"text_8\">\r\n      <!-- 5 -->\r\n      <g transform=\"translate(13.5625 53.710647)scale(0.1 -0.1)\">\r\n       <use xlink:href=\"#DejaVuSans-53\"/>\r\n      </g>\r\n     </g>\r\n    </g>\r\n    <g id=\"ytick_3\">\r\n     <g id=\"line2d_9\">\r\n      <g>\r\n       <use style=\"stroke:#000000;stroke-width:0.8;\" x=\"26.925\" xlink:href=\"#m432bfdbddc\" y=\"88.74\"/>\r\n      </g>\r\n     </g>\r\n     <g id=\"text_9\">\r\n      <!-- 10 -->\r\n      <g transform=\"translate(7.2 92.539219)scale(0.1 -0.1)\">\r\n       <use xlink:href=\"#DejaVuSans-49\"/>\r\n       <use x=\"63.623047\" xlink:href=\"#DejaVuSans-48\"/>\r\n      </g>\r\n     </g>\r\n    </g>\r\n    <g id=\"ytick_4\">\r\n     <g id=\"line2d_10\">\r\n      <g>\r\n       <use style=\"stroke:#000000;stroke-width:0.8;\" x=\"26.925\" xlink:href=\"#m432bfdbddc\" y=\"127.568571\"/>\r\n      </g>\r\n     </g>\r\n     <g id=\"text_10\">\r\n      <!-- 15 -->\r\n      <g transform=\"translate(7.2 131.36779)scale(0.1 -0.1)\">\r\n       <use xlink:href=\"#DejaVuSans-49\"/>\r\n       <use x=\"63.623047\" xlink:href=\"#DejaVuSans-53\"/>\r\n      </g>\r\n     </g>\r\n    </g>\r\n    <g id=\"ytick_5\">\r\n     <g id=\"line2d_11\">\r\n      <g>\r\n       <use style=\"stroke:#000000;stroke-width:0.8;\" x=\"26.925\" xlink:href=\"#m432bfdbddc\" y=\"166.397143\"/>\r\n      </g>\r\n     </g>\r\n     <g id=\"text_11\">\r\n      <!-- 20 -->\r\n      <g transform=\"translate(7.2 170.196362)scale(0.1 -0.1)\">\r\n       <use xlink:href=\"#DejaVuSans-50\"/>\r\n       <use x=\"63.623047\" xlink:href=\"#DejaVuSans-48\"/>\r\n      </g>\r\n     </g>\r\n    </g>\r\n    <g id=\"ytick_6\">\r\n     <g id=\"line2d_12\">\r\n      <g>\r\n       <use style=\"stroke:#000000;stroke-width:0.8;\" x=\"26.925\" xlink:href=\"#m432bfdbddc\" y=\"205.225714\"/>\r\n      </g>\r\n     </g>\r\n     <g id=\"text_12\">\r\n      <!-- 25 -->\r\n      <g transform=\"translate(7.2 209.024933)scale(0.1 -0.1)\">\r\n       <use xlink:href=\"#DejaVuSans-50\"/>\r\n       <use x=\"63.623047\" xlink:href=\"#DejaVuSans-53\"/>\r\n      </g>\r\n     </g>\r\n    </g>\r\n   </g>\r\n   <g id=\"patch_3\">\r\n    <path d=\"M 26.925 224.64 \r\nL 26.925 7.2 \r\n\" style=\"fill:none;stroke:#000000;stroke-linecap:square;stroke-linejoin:miter;stroke-width:0.8;\"/>\r\n   </g>\r\n   <g id=\"patch_4\">\r\n    <path d=\"M 244.365 224.64 \r\nL 244.365 7.2 \r\n\" style=\"fill:none;stroke:#000000;stroke-linecap:square;stroke-linejoin:miter;stroke-width:0.8;\"/>\r\n   </g>\r\n   <g id=\"patch_5\">\r\n    <path d=\"M 26.925 224.64 \r\nL 244.365 224.64 \r\n\" style=\"fill:none;stroke:#000000;stroke-linecap:square;stroke-linejoin:miter;stroke-width:0.8;\"/>\r\n   </g>\r\n   <g id=\"patch_6\">\r\n    <path d=\"M 26.925 7.2 \r\nL 244.365 7.2 \r\n\" style=\"fill:none;stroke:#000000;stroke-linecap:square;stroke-linejoin:miter;stroke-width:0.8;\"/>\r\n   </g>\r\n  </g>\r\n </g>\r\n <defs>\r\n  <clipPath id=\"p688485f469\">\r\n   <rect height=\"217.44\" width=\"217.44\" x=\"26.925\" y=\"7.2\"/>\r\n  </clipPath>\r\n </defs>\r\n</svg>\r\n",
      "text/plain": "<Figure size 432x288 with 1 Axes>"
     },
     "metadata": {
      "needs_background": "light"
     },
     "output_type": "display_data"
    }
   ],
   "source": [
    "single_pil = transforms.ToPILImage()(x[0,:,:,:])\n",
    "# clip image, for visualization purposes\n",
    "thresh = lambda x : 255 if x > 148 else 0\n",
    "single_pil = single_pil.convert('L').point(thresh, mode='1')\n",
    "single_pil = single_pil.convert('RGB')\n",
    "plt.imshow(single_pil)"
   ]
  },
  {
   "cell_type": "code",
   "execution_count": 181,
   "metadata": {},
   "outputs": [
    {
     "data": {
      "text/plain": "tensor([9, 3, 8, 8, 6, 5, 3, 1, 7, 1, 1, 4, 6, 6, 9, 4, 4, 7, 1, 6, 7, 4, 2, 6,\n        4, 3, 1, 1, 2, 1, 4, 1, 9, 3, 4, 2, 5, 9, 0, 2, 5, 3, 0, 0, 4, 2, 8, 2,\n        1, 6, 6, 0, 0, 9, 5, 5, 5, 3, 7, 3, 8, 2, 9, 3])"
     },
     "execution_count": 181,
     "metadata": {},
     "output_type": "execute_result"
    }
   ],
   "source": [
    "y"
   ]
  },
  {
   "cell_type": "code",
   "execution_count": 205,
   "metadata": {},
   "outputs": [
    {
     "data": {
      "text/plain": "tensor([9, 3, 8, 8, 6, 5, 3, 1, 7, 1, 1, 4, 6, 6, 9, 4, 4, 7, 1, 6, 7, 4, 2, 9,\n        4, 3, 1, 1, 2, 1, 4, 1, 9, 3, 4, 2, 5, 9, 0, 2, 5, 3, 0, 0, 4, 2, 8, 2,\n        1, 6, 6, 0, 0, 9, 5, 5, 5, 3, 7, 3, 8, 2, 9, 3], device='cuda:0')"
     },
     "execution_count": 205,
     "metadata": {},
     "output_type": "execute_result"
    }
   ],
   "source": [
    "torch.argmax(net(x.cuda()), axis=1)"
   ]
  },
  {
   "cell_type": "code",
   "execution_count": 214,
   "metadata": {},
   "outputs": [],
   "source": [
    "sample = x[0, :, : ,:].reshape(1, 1, 28, 28).cuda()"
   ]
  },
  {
   "cell_type": "code",
   "execution_count": 255,
   "metadata": {},
   "outputs": [
    {
     "data": {
      "text/plain": "True"
     },
     "execution_count": 255,
     "metadata": {},
     "output_type": "execute_result"
    }
   ],
   "source": [
    "isinstance(net.features[3], DeformConv)"
   ]
  },
  {
   "cell_type": "code",
   "execution_count": 258,
   "metadata": {},
   "outputs": [],
   "source": [
    "with torch.no_grad():\n",
    "    output = sample\n",
    "    for i, layer in enumerate(net.features):\n",
    "        if isinstance(layer, DeformConv):\n",
    "            output = layer.offset_net(output)\n",
    "            break\n",
    "        output = layer(output)"
   ]
  },
  {
   "cell_type": "code",
   "execution_count": 259,
   "metadata": {},
   "outputs": [],
   "source": [
    "output = output.cpu()"
   ]
  },
  {
   "cell_type": "code",
   "execution_count": 261,
   "metadata": {},
   "outputs": [
    {
     "data": {
      "text/plain": "torch.Size([1, 1, 28, 28])"
     },
     "execution_count": 261,
     "metadata": {},
     "output_type": "execute_result"
    }
   ],
   "source": [
    "sample.shape"
   ]
  },
  {
   "cell_type": "code",
   "execution_count": 260,
   "metadata": {},
   "outputs": [
    {
     "data": {
      "text/plain": "torch.Size([1, 18, 13, 13])"
     },
     "execution_count": 260,
     "metadata": {},
     "output_type": "execute_result"
    }
   ],
   "source": [
    "output.shape"
   ]
  },
  {
   "cell_type": "code",
   "execution_count": 264,
   "metadata": {},
   "outputs": [
    {
     "data": {
      "text/plain": "tensor([-0.2032, -0.0283,  0.0596, -0.0539, -0.3373, -0.4468, -0.2435, -0.2105,\n         0.1778, -0.3781, -0.1805, -0.0886,  0.0448,  0.0258, -0.4595, -0.0653,\n         0.9735,  0.1929])"
     },
     "execution_count": 264,
     "metadata": {},
     "output_type": "execute_result"
    }
   ],
   "source": [
    "output[0, :, 0, 0]"
   ]
  },
  {
   "cell_type": "code",
   "execution_count": 265,
   "metadata": {},
   "outputs": [],
   "source": [
    "offset_map = output[0, :, : , :]"
   ]
  },
  {
   "cell_type": "markdown",
   "metadata": {},
   "source": [
    "Trying to reference raw implementation here: https://github.com/pytorch/vision/pull/1586/files"
   ]
  },
  {
   "cell_type": "code",
   "execution_count": null,
   "metadata": {},
   "outputs": [],
   "source": [
    "out_x = \n",
    "out_y = out_x\n",
    "wight_w = 3\n",
    "weight_h = 3\n",
    "\n",
    "\n",
    "for i in range (13):\n",
    "    for j in range(13):\n",
    "        offset_idx = 2 * (i * 13 + j)\n",
    "        print('x: %s, y: %s')%(output_map[offset_idx * (13 * 13) + 13 * 13 + 13], output_map[]"
   ]
  }
 ]
}